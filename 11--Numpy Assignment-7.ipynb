{
 "cells": [
  {
   "cell_type": "markdown",
   "id": "8acd4e81",
   "metadata": {},
   "source": [
    "# Assignment - 7\n"
   ]
  },
  {
   "cell_type": "markdown",
   "id": "0c8dd3d1",
   "metadata": {},
   "source": [
    "### Write a function so that the columns of the output matrix are powers of the input vector."
   ]
  },
  {
   "cell_type": "markdown",
   "id": "71127b16",
   "metadata": {},
   "source": [
    "### The order of the powers is determined by the increasing boolean argument. Specifically, when increasing is False, the i-th output column is the input vector raised element-wise to the power of N - i - 1."
   ]
  },
  {
   "cell_type": "markdown",
   "id": "b2eb3f8d",
   "metadata": {},
   "source": [
    "##### HINT: Such a matrix with a geometric progression in each row is named for AlexandreTheophile Vandermonde."
   ]
  },
  {
   "cell_type": "code",
   "execution_count": 1,
   "id": "31cd2471",
   "metadata": {},
   "outputs": [],
   "source": [
    "import numpy as np"
   ]
  },
  {
   "cell_type": "code",
   "execution_count": 2,
   "id": "eb6c3f11",
   "metadata": {},
   "outputs": [],
   "source": [
    "def AlexTheoVander (iVector, n, increasing = False):\n",
    "    if increasing:\n",
    "        oMatrix = np.matrix([x**i for x in iVector for i in range(n)]).reshape(iVector.size, n)\n",
    "    else:\n",
    "        oMatrix = np.matrix([x**(n-i-1) for x in iVector for i in range(n)]).reshape(iVector.size,n)\n",
    "    return oMatrix    "
   ]
  },
  {
   "cell_type": "code",
   "execution_count": 3,
   "id": "7d32fe59",
   "metadata": {},
   "outputs": [],
   "source": [
    "iVector = np.array([1,3,5,7,9])\n",
    "n=5"
   ]
  },
  {
   "cell_type": "code",
   "execution_count": 4,
   "id": "b19869de",
   "metadata": {},
   "outputs": [
    {
     "data": {
      "text/plain": [
       "matrix([[   1,    1,    1,    1,    1],\n",
       "        [   1,    3,    9,   27,   81],\n",
       "        [   1,    5,   25,  125,  625],\n",
       "        [   1,    7,   49,  343, 2401],\n",
       "        [   1,    9,   81,  729, 6561]])"
      ]
     },
     "execution_count": 4,
     "metadata": {},
     "output_type": "execute_result"
    }
   ],
   "source": [
    "oMatrix_asc = AlexTheoVander(iVector, n, True)\n",
    "oMatrix_asc"
   ]
  },
  {
   "cell_type": "code",
   "execution_count": 5,
   "id": "3d668f92",
   "metadata": {},
   "outputs": [
    {
     "data": {
      "text/plain": [
       "matrix([[   1,    1,    1,    1,    1],\n",
       "        [  81,   27,    9,    3,    1],\n",
       "        [ 625,  125,   25,    5,    1],\n",
       "        [2401,  343,   49,    7,    1],\n",
       "        [6561,  729,   81,    9,    1]])"
      ]
     },
     "execution_count": 5,
     "metadata": {},
     "output_type": "execute_result"
    }
   ],
   "source": [
    "oMatrix_desc = AlexTheoVander(iVector, n, False)\n",
    "oMatrix_desc"
   ]
  },
  {
   "cell_type": "markdown",
   "id": "34292214",
   "metadata": {},
   "source": [
    "# Problem Statement :"
   ]
  },
  {
   "cell_type": "raw",
   "id": "c41284a1",
   "metadata": {},
   "source": [
    "Given a sequence of n values x1, x2, ..., xn and a window size k>0, the k-th moving average of\n",
    "the given sequence is defined as follows:\n",
    "The moving average sequence has n-k+1 elements as shown below.\n",
    "The moving averages with k=4 of a ten-value sequence (n=10) is shown below\n",
    "i 1 2 3 4 5 6 7 8 9 10\n",
    "===== == == == == == == == == == ==\n",
    "Input 10 20 30 40 50 60 70 80 90 100\n",
    "y1 25 = (10+20+30+40)/4\n",
    "y2 35 = (20+30+40+50)/4\n",
    "y3 45 = (30+40+50+60)/4\n",
    "y4 55 = (40+50+60+70)/4\n",
    "y5 65 = (50+60+70+80)/4\n",
    "y6 75 = (60+70+80+90)/4\n",
    "y7 85 = (70+80+90+100)/4\n",
    "Thus, the moving average sequence has n-k+1=10-4+1=7 values."
   ]
  },
  {
   "cell_type": "code",
   "execution_count": 6,
   "id": "ae70a29d",
   "metadata": {},
   "outputs": [],
   "source": [
    "def movingAverage(input, k):\n",
    "    z = 1\n",
    "    output = np.convolve(input, np.ones(k), 'valid')/k\n",
    "    for i in output:\n",
    "        print('y{0} = {1:.2f}'.format(z,i))\n",
    "        z+=1"
   ]
  },
  {
   "cell_type": "code",
   "execution_count": 7,
   "id": "4fb4b02b",
   "metadata": {},
   "outputs": [
    {
     "name": "stdout",
     "output_type": "stream",
     "text": [
      "y1 = 25.00\n",
      "y2 = 35.00\n",
      "y3 = 45.00\n",
      "y4 = 55.00\n",
      "y5 = 65.00\n",
      "y6 = 75.00\n",
      "y7 = 85.00\n"
     ]
    }
   ],
   "source": [
    "input = np.array([10, 20, 30, 40, 50, 60, 70, 80, 90, 100])\n",
    "k = 4\n",
    "movingAverage(input, k)"
   ]
  },
  {
   "cell_type": "markdown",
   "id": "0abf636e",
   "metadata": {},
   "source": [
    "# Question:"
   ]
  },
  {
   "cell_type": "markdown",
   "id": "94be3053",
   "metadata": {},
   "source": [
    "## Write a function to find moving average in an array over a window:"
   ]
  },
  {
   "cell_type": "markdown",
   "id": "e6a48640",
   "metadata": {},
   "source": [
    "### Test it over [3, 5, 7, 2, 8, 10, 11, 65, 72, 81, 99, 100, 150] and window of 3."
   ]
  },
  {
   "cell_type": "code",
   "execution_count": 8,
   "id": "ab5e262a",
   "metadata": {},
   "outputs": [],
   "source": [
    "def movingAverage(inputvalue, k):\n",
    "    z = 1\n",
    "    output = np.convolve(inputvalue, np.ones(k), 'valid')/k\n",
    "    for i in output:\n",
    "        print('y{0} = {1:.2f}'.format(z,i))\n",
    "        z+=1"
   ]
  },
  {
   "cell_type": "code",
   "execution_count": 9,
   "id": "5c45d0c6",
   "metadata": {},
   "outputs": [
    {
     "name": "stdout",
     "output_type": "stream",
     "text": [
      "y1 = 5.00\n",
      "y2 = 4.67\n",
      "y3 = 5.67\n",
      "y4 = 6.67\n",
      "y5 = 9.67\n",
      "y6 = 28.67\n",
      "y7 = 49.33\n",
      "y8 = 72.67\n",
      "y9 = 84.00\n",
      "y10 = 93.33\n",
      "y11 = 116.33\n"
     ]
    }
   ],
   "source": [
    "inputvalue = np.array([3, 5, 7, 2, 8, 10, 11, 65, 72, 81, 99, 100, 150])\n",
    "k = 3\n",
    "movingAverage(inputvalue, k)"
   ]
  },
  {
   "cell_type": "code",
   "execution_count": null,
   "id": "c9b58d40",
   "metadata": {},
   "outputs": [],
   "source": []
  }
 ],
 "metadata": {
  "kernelspec": {
   "display_name": "Python 3",
   "language": "python",
   "name": "python3"
  },
  "language_info": {
   "codemirror_mode": {
    "name": "ipython",
    "version": 3
   },
   "file_extension": ".py",
   "mimetype": "text/x-python",
   "name": "python",
   "nbconvert_exporter": "python",
   "pygments_lexer": "ipython3",
   "version": "3.8.8"
  }
 },
 "nbformat": 4,
 "nbformat_minor": 5
}
